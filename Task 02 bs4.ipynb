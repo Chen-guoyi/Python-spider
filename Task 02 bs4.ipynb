{
 "cells": [
  {
   "cell_type": "markdown",
   "metadata": {},
   "source": [
    "# Beautiful Soup库入门"
   ]
  },
  {
   "cell_type": "markdown",
   "metadata": {},
   "source": [
    "### 学习教程[BS4 中文文档](https://www.crummy.com/software/BeautifulSoup/bs4/doc.zh/）"
   ]
  },
  {
   "cell_type": "markdown",
   "metadata": {},
   "source": [
    "win10  \n",
    "anaconda jupyter"
   ]
  },
  {
   "cell_type": "markdown",
   "metadata": {},
   "source": [
    "* BS是一个可以从HTML或XML文件中提取数据的Python库"
   ]
  },
  {
   "cell_type": "markdown",
   "metadata": {},
   "source": [
    "* BS有4种对象：Tag, NavigableString, BeautifulSoup, Comment."
   ]
  },
  {
   "cell_type": "markdown",
   "metadata": {},
   "source": []
  },
  {
   "cell_type": "code",
   "execution_count": null,
   "metadata": {},
   "outputs": [],
   "source": []
  }
 ],
 "metadata": {
  "kernelspec": {
   "display_name": "Python 3",
   "language": "python",
   "name": "python3"
  },
  "language_info": {
   "codemirror_mode": {
    "name": "ipython",
    "version": 3
   },
   "file_extension": ".py",
   "mimetype": "text/x-python",
   "name": "python",
   "nbconvert_exporter": "python",
   "pygments_lexer": "ipython3",
   "version": "3.7.6"
  }
 },
 "nbformat": 4,
 "nbformat_minor": 4
}
